{
 "cells": [
  {
   "cell_type": "markdown",
   "metadata": {},
   "source": [
    "¡Hola Stephania! Como te va?\n",
    "\n",
    "Mi nombre es Emanuel Fitta! Un gusto conocerte, seré tu revisor en este proyecto.\n",
    "\n",
    "A continuación un poco sobre la modalidad de revisión que usaremos:\n",
    "\n",
    "Cuando enccuentro un error por primera vez, simplemente lo señalaré, te dejaré encontrarlo y arreglarlo tú cuenta. Además, a lo largo del texto iré haciendo algunas observaciones sobre mejora en tu código y también haré comentarios sobre tus percepciones sobre el tema. Pero si aún no puedes realizar esta tarea, te daré una pista más precisa en la próxima iteración y también algunos ejemplos prácticos. Estaré abierto a comentarios y discusiones sobre el tema.\n",
    "\n",
    "Encontrará mis comentarios a continuación: **no los mueva, modifique ni elimine**.\n",
    "\n",
    "Puedes encontrar mis comentarios en cuadros verdes, amarillos o rojos como este:\n",
    "\n",
    "<div class=\"alert alert-block alert-success\">\n",
    "<b>Comentario del revisor.</b> <a class=\"tocSkip\"></a>\n",
    "\n",
    "Exito. Todo se ha hecho de forma exitosa.\n",
    "</div>\n",
    "\n",
    "<div class=\"alert alert-block alert-warning\">\n",
    "<b>Comentario del revisor.</b> <a class=\"tocSkip\"></a>\n",
    "\n",
    "Observación. Algunas recomendaciones.\n",
    "</div>\n",
    "\n",
    "<div class=\"alert alert-block alert-danger\">\n",
    "\n",
    "<b>Comentario del revisor.</b> <a class=\"tocSkip\"></a>\n",
    "\n",
    "Necesita arreglos. Este apartado necesita algunas correcciones. El trabajo no puede ser aceptado con comentarios rojos. \n",
    "</div>\n",
    "\n",
    "Puedes responder utilizando esto:\n",
    "\n",
    "<div class=\"alert alert-block alert-info\">\n",
    "<b>Respuesta de estudiante.</b> <a class=\"tocSkip\"></a>\n",
    "</div>"
   ]
  },
  {
   "cell_type": "markdown",
   "metadata": {},
   "source": [
    "<div class=\"alert alert-block alert-danger\">\n",
    "<b>Review General. (Iteración 1) </b> <a class=\"tocSkip\"></a>\n",
    "\n",
    "Buen día Stephania! Pues dejame felicitarte por el gran trabajo que estás realizando. Sin embargo hay un detalle más adelante en el notebook, que no permite seguir revisandolo. Y es que tal vez, borraste accidentalmente la celda donde defines el dataframe filtered_orders. ¿Te parece si lo agregas? Estoy seguro que es un detalle nada más.\n",
    "    \n",
    "Te deseo un gran día. Si existe alguna duda sobre como continuar el proyecto, por favor, escribelo en el notebook y con gusto te apoyaré en futuras iteraciones."
   ]
  },
  {
   "cell_type": "markdown",
   "metadata": {},
   "source": [
    "\n",
    "\n",
    "<div class=\"alert alert-block alert-danger\">\n",
    "<b>Review General. (Iteración 2)</b> <a class=\"tocSkip\"></a>\n",
    "\n",
    "¡Hola Stephania! 😊\n",
    "\n",
    "Te felicito por el esfuerzo y la profundidad que estás dando a este análisis A/B. ¡Has avanzado muchísimo!\n",
    "\n",
    "Sin embargo, es importante que revises tu notebook nuevamente, ya que se presentan varios errores de ejecución relacionados con **variables no definidas**, especialmente en la sección final del proyecto. Esto impide que podamos ver correctamente las últimas conclusiones.\n",
    "\n",
    "Por ejemplo:\n",
    "- La variable `ordersByUsersA` no fue creada antes de ser usada.\n",
    "- `abnormalUsers` se construye con una columna incorrecta (`revenue` en lugar de `visitorid`).\n",
    "\n",
    "\n",
    "💡 **Recomendación importante**: antes de enviar cualquier proyecto, asegúrate de hacer un **\"Restart & Run All\"** desde el menú del notebook. Esto permite verificar que todas las celdas están en orden y que no dependes de ejecuciones anteriores. Esto te ayudará a detectar errores como variables no definidas o celdas saltadas.\n",
    "\n",
    "Te recomiendo regresar a estas celdas, revisar que todas las variables necesarias estén bien definidas antes de usarlas, y probar ejecutar tu notebook completo de principio a fin. Eso garantizará que el flujo lógico del proyecto se mantenga claro y sin interrupciones.\n",
    "\n",
    "Estoy seguro de que una vez que corrijas estos detalles técnicos, tu trabajo quedará excelente. ¡Mucho ánimo! Si necesitas ayuda en alguna parte, estaré encantado de apoyarte en la siguiente iteración.\n",
    "\n",
    "</div>\n",
    "\n"
   ]
  },
  {
   "cell_type": "code",
   "execution_count": 1,
   "metadata": {},
   "outputs": [],
   "source": [
    "import pandas as pd\n",
    "import matplotlib.pyplot as plt\n",
    "import seaborn as sns\n",
    "from scipy import stats as st\n",
    "import numpy as np\n",
    "import math as mth\n",
    "from scipy.stats import mannwhitneyu\n",
    "\n",
    "#hypotheses = pd.read_csv(\"C:\\\\Users\\\\Stephania\\\\.vscode\\\\P10\\\\hypotheses_us.csv\", sep=';')\n",
    "#orders = pd.read_csv(\"C:\\\\Users\\\\Stephania\\\\.vscode\\\\P10\\\\orders_us.csv\", sep=',')\n",
    "#visits = pd.read_csv(\"C:\\\\Users\\\\Stephania\\\\.vscode\\\\P10\\\\visits_us.csv\", sep=',')\n",
    "\n",
    "hypotheses = pd.read_csv(\"/datasets/hypotheses_us.csv\", sep=';')\n",
    "orders = pd.read_csv(\"/datasets/orders_us.csv\", sep=',')\n",
    "visits = pd.read_csv(\"/datasets/visits_us.csv\", sep=',')"
   ]
  },
  {
   "cell_type": "code",
   "execution_count": 2,
   "metadata": {},
   "outputs": [
    {
     "name": "stdout",
     "output_type": "stream",
     "text": [
      "                                          hypothesis  reach  impact  \\\n",
      "0  Add two new channels for attracting traffic. T...      3      10   \n",
      "1  Launch your own delivery service. This will sh...      2       5   \n",
      "2  Add product recommendation blocks to the store...      8       3   \n",
      "3  Change the category structure. This will incre...      8       3   \n",
      "4  Change the background color on the main page. ...      3       1   \n",
      "5  Add a customer review page. This will increase...      3       2   \n",
      "6  Show banners with current offers and sales on ...      5       3   \n",
      "7  Add a subscription form to all the main pages....     10       7   \n",
      "8  Launch a promotion that gives users discounts ...      1       9   \n",
      "\n",
      "   confidence  effort  \n",
      "0           8       6  \n",
      "1           4      10  \n",
      "2           7       3  \n",
      "3           3       8  \n",
      "4           1       1  \n",
      "5           2       3  \n",
      "6           8       3  \n",
      "7           8       5  \n",
      "8           9       5  \n",
      "   transactionid   visitorid        date  revenue group\n",
      "0     3667963787  3312258926  2019-08-15     30.4     B\n",
      "1     2804400009  3642806036  2019-08-15     15.2     B\n",
      "2     2961555356  4069496402  2019-08-15     10.2     A\n",
      "3     3797467345  1196621759  2019-08-15    155.1     B\n",
      "4     2282983706  2322279887  2019-08-15     40.5     B\n",
      "5      182168103   935554773  2019-08-15     35.0     B\n",
      "6      398296753  2900797465  2019-08-15     30.6     B\n",
      "7     2626614568    78758296  2019-08-15     20.1     A\n",
      "8     1576988021   295230930  2019-08-15    215.9     A\n",
      "9     1506739906  1882260405  2019-08-15     30.5     B\n",
      "         date group  visits\n",
      "0  2019-08-01     A     719\n",
      "1  2019-08-02     A     619\n",
      "2  2019-08-03     A     507\n",
      "3  2019-08-04     A     717\n",
      "4  2019-08-05     A     756\n",
      "5  2019-08-06     A     667\n",
      "6  2019-08-07     A     644\n",
      "7  2019-08-08     A     610\n",
      "8  2019-08-09     A     617\n",
      "9  2019-08-10     A     406\n"
     ]
    }
   ],
   "source": [
    "hypotheses.columns = hypotheses.columns.str.lower()\n",
    "orders.columns = orders.columns.str.lower()\n",
    "visits.columns = visits.columns.str.lower()\n",
    "\n",
    "\n",
    "print(hypotheses.head(10))\n",
    "print(orders.head(10))\n",
    "print(visits.head(10))"
   ]
  },
  {
   "cell_type": "markdown",
   "metadata": {},
   "source": [
    "# **Parte 1. Priorizar hipótesis**\n",
    "\n",
    "\n",
    "El archivo hypotheses_us.csv contiene nueve hipótesis sobre cómo aumentar los ingresos de una tienda online con Reach, Impact, Confidence y Effort especificados para cada una.\n"
   ]
  },
  {
   "cell_type": "markdown",
   "metadata": {},
   "source": [
    "1.1. Aplicar el framework ICE para priorizar hipótesis. Ordenarlas en orden descendente de prioridad."
   ]
  },
  {
   "cell_type": "code",
   "execution_count": 3,
   "metadata": {},
   "outputs": [
    {
     "name": "stdout",
     "output_type": "stream",
     "text": [
      "                                          hypothesis        ICE\n",
      "8  Launch a promotion that gives users discounts ...  16.200000\n",
      "0  Add two new channels for attracting traffic. T...  13.333333\n",
      "7  Add a subscription form to all the main pages....  11.200000\n",
      "6  Show banners with current offers and sales on ...   8.000000\n",
      "2  Add product recommendation blocks to the store...   7.000000\n",
      "1  Launch your own delivery service. This will sh...   2.000000\n",
      "5  Add a customer review page. This will increase...   1.333333\n",
      "3  Change the category structure. This will incre...   1.125000\n",
      "4  Change the background color on the main page. ...   1.000000\n"
     ]
    }
   ],
   "source": [
    "hypotheses['ICE'] = (\n",
    "    hypotheses['impact']\n",
    "    * hypotheses['confidence']\n",
    ") / hypotheses['effort']\n",
    "print(hypotheses[['hypothesis', 'ICE']].sort_values(by='ICE', ascending=False))"
   ]
  },
  {
   "cell_type": "markdown",
   "metadata": {},
   "source": [
    "1.2. Aplicar el framework RICE para priorizar hipótesis. Ordenarlas en orden descendente de prioridad."
   ]
  },
  {
   "cell_type": "code",
   "execution_count": 4,
   "metadata": {},
   "outputs": [
    {
     "name": "stdout",
     "output_type": "stream",
     "text": [
      "                                          hypothesis   RICE\n",
      "7  Add a subscription form to all the main pages....  112.0\n",
      "2  Add product recommendation blocks to the store...   56.0\n",
      "0  Add two new channels for attracting traffic. T...   40.0\n",
      "6  Show banners with current offers and sales on ...   40.0\n",
      "8  Launch a promotion that gives users discounts ...   16.2\n",
      "3  Change the category structure. This will incre...    9.0\n",
      "1  Launch your own delivery service. This will sh...    4.0\n",
      "5  Add a customer review page. This will increase...    4.0\n",
      "4  Change the background color on the main page. ...    3.0\n"
     ]
    }
   ],
   "source": [
    "hypotheses['RICE'] = (\n",
    "    hypotheses['reach']\n",
    "    *hypotheses['impact']\n",
    "    * hypotheses['confidence']\n",
    ") / hypotheses['effort']\n",
    "print(hypotheses[['hypothesis', 'RICE']].sort_values(by='RICE', ascending=False))"
   ]
  },
  {
   "cell_type": "markdown",
   "metadata": {},
   "source": [
    "1.3. Mostrar cómo cambia la priorización de hipótesis cuando utilizas RICE en lugar de ICE. Proporcionar una explicación de los cambios."
   ]
  },
  {
   "cell_type": "markdown",
   "metadata": {},
   "source": [
    "La hipótesis 7 pasa a primer lugar al utilizar el framework RICE pues su parámetro de alcance, reach es el más alto (10) frente al parámetro reach de la hipótesis 8 (1) que se encontraba en primer lugar al aplicar el framework ICE (no se considera el alcance aquí) y desciende al aplicar el framework que considera el alcance como uno de sus parámetros.\n",
    "Lo mismo ocurre con la hipótesis 2, que tiene el segundo valor más alto del parámetro reach; pasando de estar en el quinto lugar cuando se utiliza el framework ICE al segundo al utilizar RICE.\n",
    "En general, el parámetro de alcance aumentaa significativamente los valores del framework que se utiliza para priorizar hipótesis, es decir, da más peso a hipótesis que afectan a más usuarios.Por otro lado, ICE"
   ]
  },
  {
   "cell_type": "markdown",
   "metadata": {},
   "source": [
    "<div class=\"alert alert-block alert-success\">\n",
    "<b>Comentario del revisor. (Iteración 1) </b> <a class=\"tocSkip\"></a>\n",
    "\n",
    "Muy bien! Has calculado de manera correcat tanto ICE como RICE. Y precisamente, la conclusión que obtienes es correcta. "
   ]
  },
  {
   "cell_type": "markdown",
   "metadata": {},
   "source": [
    "# **Parte 2. Análisis del test A/B**\n",
    "\n",
    "Realizaste una prueba A/B y obtuviste los resultados descritos en los archivos orders_us.csv y visits_us.csv.\n",
    "\n",
    "Ejercicio: Analiza el test A/B"
   ]
  },
  {
   "cell_type": "markdown",
   "metadata": {},
   "source": [
    "Para realizar el análisis de los resultados obtenidos en un test A/B, primero se deben observar las características de ambos grupos.Primero, se convierten las columnas que muestran fechas al formato datetime para poder trabajar con ellos más adelante.\n",
    "Luego, utilizando el dataframe orders, se cuentan la cantidad de órdenes realizadas por cada grupo pues esto permitirá obtener la tasa de conversión mas adelante.\n",
    "Respecto al dataframe visits, se debe comprobar que un mismo usuario no esté en ambos grupos.Si esto sucede, es necesario conocer cuántos son los usuarios que se repiten en ambos grupos y luego decidir qué hacer con ellos para que estos no ensucien los datos en general, ya que esto corresponde a una anomalía. \n",
    "Para comenzar el análisis en sí, se debe conocer la naturaleza de los datos presentados en ambos dataframe por lo que es útil conocer cuántos usuarios convierten y cuánto gastan aquellos que compran\n"
   ]
  },
  {
   "cell_type": "markdown",
   "metadata": {},
   "source": [
    "<div class=\"alert alert-block alert-success\">\n",
    "<b>Comentario del revisor. (Iteración 1) </b> <a class=\"tocSkip\"></a>\n",
    "\n",
    "Hey! Muchas felicidades por agregar esta breve descripción de los pasos que seguirás a continuación. Lo veo más que bien!"
   ]
  },
  {
   "cell_type": "code",
   "execution_count": 5,
   "metadata": {},
   "outputs": [],
   "source": [
    "# primero se convierte la columna de fecha de ambos datasets a tipo datetime\n",
    "orders['date'] = pd.to_datetime(orders['date'])\n",
    "visits['date'] = pd.to_datetime(visits['date'])"
   ]
  },
  {
   "cell_type": "code",
   "execution_count": 6,
   "metadata": {},
   "outputs": [
    {
     "name": "stdout",
     "output_type": "stream",
     "text": [
      "B    640\n",
      "A    557\n",
      "Name: group, dtype: int64\n"
     ]
    }
   ],
   "source": [
    "# se cuentan los usuarios que realizaron órdenes por cada grupo\n",
    "order_group_count = orders['group'].value_counts()\n",
    "\n",
    "print(order_group_count)"
   ]
  },
  {
   "cell_type": "code",
   "execution_count": 7,
   "metadata": {},
   "outputs": [
    {
     "name": "stdout",
     "output_type": "stream",
     "text": [
      "group\n",
      "A    18736\n",
      "B    18916\n",
      "Name: visits, dtype: int64\n"
     ]
    }
   ],
   "source": [
    "# se calcula el total de visitas por grupo\n",
    "total_visits_by_group = visits.groupby('group')['visits'].sum()\n",
    "\n",
    "print(total_visits_by_group)"
   ]
  },
  {
   "cell_type": "code",
   "execution_count": 8,
   "metadata": {},
   "outputs": [
    {
     "name": "stdout",
     "output_type": "stream",
     "text": [
      "Usuarios en más de un grupo (A y B):\n",
      "visitorid\n",
      "8300375      2\n",
      "199603092    2\n",
      "232979603    2\n",
      "Name: group, dtype: int64\n"
     ]
    }
   ],
   "source": [
    "#se verifica que un mismo ususario no se encuentre en ambos grupos \n",
    "# agrupar por visitorId y contar los grupos únicos\n",
    "group_counts = orders.groupby('visitorid')['group'].nunique()\n",
    "\n",
    "# Filtrar usuarios con más de un grupo (A y B)\n",
    "users_in_multiple_groups = group_counts[group_counts > 1]\n",
    "\n",
    "print(\"Usuarios en más de un grupo (A y B):\")\n",
    "print(users_in_multiple_groups.head(3))\n"
   ]
  },
  {
   "cell_type": "code",
   "execution_count": 9,
   "metadata": {},
   "outputs": [
    {
     "name": "stdout",
     "output_type": "stream",
     "text": [
      "Número de usuarios en más de un grupo (A y B): 58\n"
     ]
    }
   ],
   "source": [
    "#contar la cantidad de usuarios problemáticos, es decir, que se encuentran en más de un grupo a la vez\n",
    "num_users_in_multiple_groups = len(users_in_multiple_groups)\n",
    "\n",
    "print(f\"Número de usuarios en más de un grupo (A y B): {num_users_in_multiple_groups}\")"
   ]
  },
  {
   "cell_type": "code",
   "execution_count": 10,
   "metadata": {},
   "outputs": [
    {
     "name": "stdout",
     "output_type": "stream",
     "text": [
      "Número de registros después de limpieza: 1197\n",
      "Usuarios eliminados: 58\n"
     ]
    }
   ],
   "source": [
    "#se eliminan los 58 usuarios que realizaron compras en ambos grupos y se trabaja con \n",
    "# el dataframe resultante de esta limpieza peus considerarlos puede sesgar los resultados e \n",
    "# invalidar la aleatorización del test A/B\n",
    "\n",
    "# se sobrescribe el DataFrame original con los datos limpios\n",
    "orders = orders[~orders['visitorid'].isin(users_in_multiple_groups)].copy()\n",
    "\n",
    "\n",
    "print(f\"Número de registros después de limpieza: {len(orders)}\")\n",
    "print(f\"Usuarios eliminados: {len(users_in_multiple_groups)}\")"
   ]
  },
  {
   "cell_type": "code",
   "execution_count": 11,
   "metadata": {},
   "outputs": [
    {
     "name": "stdout",
     "output_type": "stream",
     "text": [
      "B    640\n",
      "A    557\n",
      "Name: group, dtype: int64\n"
     ]
    }
   ],
   "source": [
    "# se cuentan los usuarios que realizaron órdenes por cada grupo\n",
    "order_group_count = orders['group'].value_counts()\n",
    "\n",
    "print(order_group_count)"
   ]
  },
  {
   "cell_type": "markdown",
   "metadata": {},
   "source": [
    "<div class=\"alert alert-block alert-success\">\n",
    "<b>Comentario del revisor. (Iteración 1) </b> <a class=\"tocSkip\"></a>\n",
    "\n",
    "Me gusta como usaste groupby para resolver este punto, muy bien!"
   ]
  },
  {
   "cell_type": "markdown",
   "metadata": {},
   "source": [
    "Ahora, la modificacion del dataframe orders, muestra solo a los usuarios que interactuaron en un solo grupo.Con este dataframe se trabajará para probar la hipótesis de que las proporciones de los ingresos por pedidos son iguales en ambos grupos, pero primero se debe probar si los datasets están modelados con precisión por la distribución normal utilizando una prueba de normalidad de Shapiro-Wilk"
   ]
  },
  {
   "cell_type": "code",
   "execution_count": 12,
   "metadata": {},
   "outputs": [
    {
     "name": "stdout",
     "output_type": "stream",
     "text": [
      "Prueba de Normalidad (Shapiro-Wilk)\n",
      "Estadístico = 0.1034, p-value = 0.000e+00\n",
      "Los datos NO siguen una distribución normal (se rechaza H0).\n"
     ]
    },
    {
     "data": {
      "image/png": "[encoded data removed]",
      "text/plain": [
       "<Figure size 1200x500 with 1 Axes>"
      ]
     },
     "metadata": {},
     "output_type": "display_data"
    }
   ],
   "source": [
    "data = orders['revenue'].dropna()  # Elimina valores nulos si los hay\n",
    "\n",
    "# Aplicar prueba de Shapiro-Wilk\n",
    "results= st.shapiro(data)\n",
    "p_value = results[1]\n",
    "stat= results[0]\n",
    "\n",
    "# Interpretación de resultados\n",
    "alpha = 0.05  # Nivel de significancia\n",
    "print(\"Prueba de Normalidad (Shapiro-Wilk)\")\n",
    "print(f\"Estadístico = {stat:.4f}, p-value = {p_value:.3e}\")\n",
    "\n",
    "if p_value > alpha:\n",
    "    print(\"Los datos siguen una distribución normal (no se rechaza H0).\")\n",
    "else:\n",
    "    print(\"Los datos NO siguen una distribución normal (se rechaza H0).\")\n",
    "\n",
    "\n",
    "# Histogramas\n",
    "plt.figure(figsize=(12, 5))\n",
    "plt.subplot(1, 2, 1)\n",
    "sns.histplot(data, kde=True)\n",
    "plt.title(\"Distribución de ingresos de pedidos\")\n",
    "\n",
    "plt.tight_layout()\n",
    "plt.show()"
   ]
  },
  {
   "cell_type": "markdown",
   "metadata": {},
   "source": [
    "<div class=\"alert alert-block alert-success\">\n",
    "<b>Comentario del revisor. (Iteración 1) </b> <a class=\"tocSkip\"></a>\n",
    "\n",
    "Perfecto! Las conclusiones que agregas son muy precisas. El proponer Mann Whitney en lugar de ttest, habla de tu entendimiento de la estadística detrás de los tests. "
   ]
  },
  {
   "cell_type": "markdown",
   "metadata": {},
   "source": [
    "Como los datos que muestran lo ingresos de los pedidos realizados por los usuarios no poseen una distribución normal, se deben realizar una pruebas significancia estadística de de Wilcoxon-Mann-Whitney para comparar los resultados de ambos grupos A y B respecto de los ingresos de pedidos y concluir si el tamaño de las series es significativamente diferente, es decir, si existe alguna diferencia entre las tasas de conversión entre un grupo y otro, ya que estamos comparando los ingresos de los pedidos "
   ]
  },
  {
   "cell_type": "markdown",
   "metadata": {},
   "source": [
    "2.1 Representa gráficamente el ingreso acumulado por grupo. Haz conclusiones y conjeturas."
   ]
  },
  {
   "cell_type": "code",
   "execution_count": 13,
   "metadata": {},
   "outputs": [
    {
     "name": "stdout",
     "output_type": "stream",
     "text": [
      "   group       date  revenue  cumulative_revenue\n",
      "0      A 2019-08-01   2356.8              2356.8\n",
      "1      A 2019-08-02   1503.5              3860.3\n",
      "2      A 2019-08-03   1815.2              5675.5\n",
      "3      A 2019-08-04   1146.6              6822.1\n",
      "4      A 2019-08-05   1988.1              8810.2\n",
      "..   ...        ...      ...                 ...\n",
      "57     B 2019-08-27   2319.8             82161.3\n",
      "58     B 2019-08-28   1558.0             83719.3\n",
      "59     B 2019-08-29   3623.7             87343.0\n",
      "60     B 2019-08-30   3393.3             90736.3\n",
      "61     B 2019-08-31   2104.3             92840.6\n",
      "\n",
      "[62 rows x 4 columns]\n"
     ]
    }
   ],
   "source": [
    "filtered_orders = pd.DataFrame(orders)\n",
    "# se agrupan los ingresos por grupo y fecha\n",
    "grouped_orders = filtered_orders.groupby(['group', 'date'])['revenue'].sum().reset_index()\n",
    "\n",
    "# se calculan los ingresos acumulados por grupo\n",
    "grouped_orders['cumulative_revenue'] = grouped_orders.groupby('group')['revenue'].cumsum()\n",
    "\n",
    "print(grouped_orders)\n"
   ]
  },
  {
   "cell_type": "markdown",
   "metadata": {},
   "source": [
    "<div class=\"alert alert-block alert-danger\">\n",
    "<b>Comentario del revisor. (Iteración 1) </b> <a class=\"tocSkip\"></a>\n",
    "\n",
    "Mira Stephania, por acá, parece que olvidaste definir el dataframe filtered_orders. ¿Te parece si lo agregas, para poder seguir revisando tu proyecto? De cualquier forma si tienes alguna duda, por favor, cuenta conmigo, escribelo en el notebook y con gusto en futuras iteraciones puedo apoyarte. Te coloco el error que obtengo: \n",
    "    \n",
    "    NameError: name 'filtered_orders' is not defined"
   ]
  },
  {
   "cell_type": "code",
   "execution_count": 14,
   "metadata": {},
   "outputs": [
    {
     "data": {
      "image/png": "[encoded data removed]",
      "text/plain": [
       "<Figure size 1000x600 with 1 Axes>"
      ]
     },
     "metadata": {},
     "output_type": "display_data"
    }
   ],
   "source": [
    "\n",
    "plt.figure(figsize=(10, 6))\n",
    "\n",
    "# gráfico para el grupo A\n",
    "group_a = grouped_orders[grouped_orders['group'] == 'A']\n",
    "plt.plot(group_a['date'], group_a['cumulative_revenue'], label='Grupo A', color='blue')\n",
    "\n",
    "# gráfico para el grupo B\n",
    "group_b = grouped_orders[grouped_orders['group'] == 'B']\n",
    "plt.plot(group_b['date'], group_b['cumulative_revenue'], label='Grupo B', color='red')\n",
    "\n",
    "# Añadir detalles al gráfico\n",
    "plt.title('Ingresos Acumulados por Grupo (A/B)')\n",
    "plt.xlabel('Fecha')\n",
    "plt.ylabel('Ingresos Acumulados')\n",
    "plt.legend()\n",
    "plt.grid(True)\n",
    "plt.xticks(rotation=45)\n",
    "plt.show()"
   ]
  },
  {
   "cell_type": "markdown",
   "metadata": {},
   "source": [
    "Se observa que los ingresos acumulados de ambos grupos crecen de manera similar hasta el día 5 de agosto del 2019, luego de eso se empiezan a notar las diferencias de crecimiento entre ellos.luego del día 17 del mismo mes, el grupo B presenta un crecimiento muy alto en un lapso muy pequeño, mientras que el grupo A mantiene su crecimiento constante y más lento que el otro.Este comportamiento se puede deber a alguna anomalía y se debe buscar la razón de esta para poder tener un análisis certero.\n",
    "En general, el grupo B presenta más ingresos acumulados en el tiempo que el grupo A, esto se puede deber a diferencias en la base de usuarios, estacionalidad o eventos externos."
   ]
  },
  {
   "cell_type": "markdown",
   "metadata": {},
   "source": [
    "2.2 Representa gráficamente el tamaño de pedido promedio acumulado por grupo. Haz conclusiones y conjeturas."
   ]
  },
  {
   "cell_type": "code",
   "execution_count": 15,
   "metadata": {},
   "outputs": [
    {
     "name": "stdout",
     "output_type": "stream",
     "text": [
      "   transactionid   visitorid       date  revenue group\n",
      "0     3667963787  3312258926 2019-08-15     30.4     B\n",
      "1     2804400009  3642806036 2019-08-15     15.2     B\n",
      "2     2961555356  4069496402 2019-08-15     10.2     A\n",
      "3     3797467345  1196621759 2019-08-15    155.1     B\n",
      "4     2282983706  2322279887 2019-08-15     40.5     B\n"
     ]
    },
    {
     "data": {
      "image/png": "[encoded data removed]",
      "text/plain": [
       "<Figure size 1000x600 with 1 Axes>"
      ]
     },
     "metadata": {},
     "output_type": "display_data"
    }
   ],
   "source": [
    "filtered_orders = filtered_orders.sort_values(by=['group', 'date'])\n",
    "\n",
    "# se calcula el tamaño de pedido promedio acumulado por grupo\n",
    "filtered_orders['cumulative_revenue'] = filtered_orders.groupby('group')['revenue'].cumsum()\n",
    "filtered_orders['cumulative_orders'] = filtered_orders.groupby('group').cumcount() + 1\n",
    "filtered_orders['cumulative_avg_order_size'] = filtered_orders['cumulative_revenue'] / filtered_orders['cumulative_orders']\n",
    "\n",
    "# Mostrar las primeras filas para verificar\n",
    "print(orders.head())\n",
    "\n",
    "plt.figure(figsize=(10, 6))\n",
    "\n",
    "# grafica para el grupo A\n",
    "group_a = filtered_orders[filtered_orders['group'] == 'A']\n",
    "plt.plot(group_a['date'], group_a['cumulative_avg_order_size'], label='Grupo A', color='blue')\n",
    "\n",
    "# grafica para el grupo B\n",
    "group_b = filtered_orders[filtered_orders['group'] == 'B']\n",
    "plt.plot(group_b['date'], group_b['cumulative_avg_order_size'], label='Grupo B', color='red')\n",
    "\n",
    "\n",
    "plt.title('Tamaño de Pedido Promedio Acumulado por Grupo (A/B)')\n",
    "plt.xlabel('Fecha')\n",
    "plt.ylabel('Tamaño de Pedido Promedio Acumulado')\n",
    "plt.legend()\n",
    "plt.grid(True)\n",
    "plt.xticks(rotation=45)\n",
    "plt.tight_layout()\n",
    "\n",
    "\n",
    "plt.show()"
   ]
  },
  {
   "cell_type": "markdown",
   "metadata": {},
   "source": [
    "2.3 Representa gráficamente la diferencia relativa en el tamaño de pedido promedio acumulado para el grupo B en comparación con el grupo A. Haz conclusiones y conjeturas."
   ]
  },
  {
   "cell_type": "code",
   "execution_count": 16,
   "metadata": {},
   "outputs": [
    {
     "data": {
      "text/plain": [
       "(array([18109., 18113., 18117., 18121., 18125., 18129., 18133., 18137.,\n",
       "        18140.]),\n",
       " [Text(0, 0, ''),\n",
       "  Text(0, 0, ''),\n",
       "  Text(0, 0, ''),\n",
       "  Text(0, 0, ''),\n",
       "  Text(0, 0, ''),\n",
       "  Text(0, 0, ''),\n",
       "  Text(0, 0, ''),\n",
       "  Text(0, 0, ''),\n",
       "  Text(0, 0, '')])"
      ]
     },
     "execution_count": 16,
     "metadata": {},
     "output_type": "execute_result"
    },
    {
     "data": {
      "image/png": "[encoded data removed]",
      "text/plain": [
       "<Figure size 640x480 with 1 Axes>"
      ]
     },
     "metadata": {},
     "output_type": "display_data"
    }
   ],
   "source": [
    "datesGroups = orders[['date', 'group']].drop_duplicates()\n",
    "\n",
    "#se declara esta nueva variable para almacenar fecha, grupo, numero de pedidos distintos para el grupo de prueba dentro del lapso de estudio, número de usuarios distintos en el grupo de prueba que realizan al menos un pedido dentro del lapso de estuduio y los ingresos totales de pedidos en el grupo dentro del lapso de estudio\n",
    "ordersAggregated = datesGroups.apply(lambda x: orders[np.logical_and(orders['date'] <= x['date'], orders['group'] == x['group'])].agg({'date': 'max','group': 'max','transactionid': pd.Series.nunique,'visitorid': pd.Series.nunique,'revenue': 'sum',}),axis=1,).sort_values(by=['date', 'group'])\n",
    "\n",
    "#se declara esta variable para almacenar fecha, grupo de la prueba y número de pedidos distintos para cada grupo dentro del lapso de estudio.\n",
    "visitorsAggregated = datesGroups.apply(lambda x: visits[np.logical_and(visits['date'] <= x['date'], visits['group'] == x['group'])].agg({'date': 'max', 'group': 'max', 'visits': 'sum'}),axis=1,).sort_values(by=['date', 'group'])\n",
    "\n",
    "#se unen las tablas creadas anteriormente mediante la columna date y group\n",
    "cumulativeData = ordersAggregated.merge(visitorsAggregated, left_on=['date', 'group'], right_on=['date', 'group'])\n",
    "cumulativeData.columns = ['date','group','orders','buyers','revenue','visits',]\n",
    "\n",
    "#se almacenan los datos sobre fechas, ingresos y número de pedidos para los grupos A y B.\n",
    "cumulativeRevenueA = cumulativeData[cumulativeData['group'] == 'A'][['date', 'revenue', 'orders']]\n",
    "cumulativeRevenueB = cumulativeData[cumulativeData['group'] == 'B'][['date', 'revenue', 'orders']]\n",
    "\n",
    "#se unen las tablas por la columna 'date'\n",
    "mergedCumulativeRevenue = cumulativeRevenueA.merge(cumulativeRevenueB,on='date',how='left',suffixes=('A', 'B'))\n",
    "\n",
    "# Seleccionar solo las columnas necesarias\n",
    "mergedCumulativeRevenue = mergedCumulativeRevenue[['date', 'revenueA', 'ordersA', 'revenueB', 'ordersB']]\n",
    "\n",
    "plt.plot(mergedCumulativeRevenue['date'],(mergedCumulativeRevenue['revenueB'] / mergedCumulativeRevenue['ordersB'])/ (mergedCumulativeRevenue['revenueA']/ mergedCumulativeRevenue['ordersA'])- 1)\n",
    "plt.axhline(y=0, color='black', linestyle='--')\n",
    "plt.xticks(rotation=45)"
   ]
  },
  {
   "cell_type": "markdown",
   "metadata": {},
   "source": [
    "En general los valores se encuentran sobre la línea del 0, por lo que se puede intuir que el grupo B tiene, en promedio, pedidos de mayor tamaño que el grupo A.\n",
    "Se observa que los valores descienden el día 13 de agosto pero luego de eso vuelven a subir rápidamente hasta un valor máximo un par de días después."
   ]
  },
  {
   "cell_type": "markdown",
   "metadata": {},
   "source": [
    "2.4 Calcula la tasa de conversión de cada grupo como la relación entre los pedidos y el número de visitas de cada día. Representa gráficamente las tasas de conversión diarias de los dos grupos y describe la diferencia. Saca conclusiones y haz conjeturas."
   ]
  },
  {
   "cell_type": "code",
   "execution_count": 17,
   "metadata": {},
   "outputs": [
    {
     "data": {
      "image/png": "[encoded data removed]",
      "text/plain": [
       "<Figure size 640x480 with 1 Axes>"
      ]
     },
     "metadata": {},
     "output_type": "display_data"
    }
   ],
   "source": [
    "# se calcula la tasa de conversión utilizando los datos almacenados anteriormente en cumulative Data\n",
    "cumulativeData['conversion'] = cumulativeData['orders'] / cumulativeData['visits']\n",
    "\n",
    "# Filtrar datos para ambos grupos\n",
    "cumulativeDataA = cumulativeData[cumulativeData['group'] == 'A']\n",
    "cumulativeDataB = cumulativeData[cumulativeData['group'] == 'B']\n",
    "\n",
    "# Gráfico para cada grupo\n",
    "plt.plot(cumulativeDataA['date'], cumulativeDataA['conversion'], label='A', color='blue')\n",
    "plt.plot(cumulativeDataB['date'], cumulativeDataB['conversion'], label='B', color='red')\n",
    "\n",
    "plt.axis([pd.to_datetime(\"2019-08-01\"), pd.to_datetime('2019-08-31'), 0, 0.05])\n",
    "\n",
    "plt.title('Conversión acumulada diaria por grupo')\n",
    "plt.xlabel('Fecha')\n",
    "plt.ylabel('Conversión acumulada')\n",
    "plt.xticks(rotation=45)\n",
    "\n",
    "plt.legend()\n",
    "plt.show()"
   ]
  },
  {
   "cell_type": "markdown",
   "metadata": {},
   "source": [
    "Al comienzo, el grupo A tenía una tasa de conversión más alta, pero luego de unos 5 días, el grupo B ve aumemtado este valor y se logra mantener casi constante y mayor a la del grupo A."
   ]
  },
  {
   "cell_type": "markdown",
   "metadata": {},
   "source": [
    "2.5 Traza un gráfico de dispersión del número de pedidos por usuario. Haz conclusiones y conjeturas."
   ]
  },
  {
   "cell_type": "code",
   "execution_count": 18,
   "metadata": {},
   "outputs": [
    {
     "data": {
      "text/plain": [
       "Text(0, 0.5, 'Número de pedidos')"
      ]
     },
     "execution_count": 18,
     "metadata": {},
     "output_type": "execute_result"
    },
    {
     "data": {
      "image/png": "[encoded data removed]",
      "text/plain": [
       "<Figure size 640x480 with 1 Axes>"
      ]
     },
     "metadata": {},
     "output_type": "display_data"
    }
   ],
   "source": [
    "\n",
    "# se calcula el número de pedidos por usuario\n",
    "orders_per_user = orders.groupby('visitorid')['transactionid'].nunique().reset_index()\n",
    "orders_per_user.columns = ['visitorid', 'num_orders']\n",
    "\n",
    "\n",
    "plt.scatter(x= orders_per_user.index,y=orders_per_user['num_orders'], alpha=.7)\n",
    "\n",
    "\n",
    "plt.title('Distribución de pedidos por usuario')\n",
    "plt.xlabel('Usuarios (indexados)')\n",
    "plt.ylabel('Número de pedidos')\n"
   ]
  },
  {
   "cell_type": "markdown",
   "metadata": {},
   "source": [
    "A simle vista, se observan al menos 10 puntos atípicos, es decir, 10 usuarios que realizan mas de cuatros pedidos.Esto se debe confirmar analizando los percentiles del número de pedidos por usuario."
   ]
  },
  {
   "cell_type": "markdown",
   "metadata": {},
   "source": [
    "2.6 Calcula los percentiles 95 y 99 del número de pedidos por usuario. Define el punto en el cual un punto de datos se convierte en una anomalía."
   ]
  },
  {
   "cell_type": "code",
   "execution_count": 19,
   "metadata": {},
   "outputs": [
    {
     "name": "stdout",
     "output_type": "stream",
     "text": [
      "[2. 4.]\n"
     ]
    }
   ],
   "source": [
    "orders_per_user = orders.groupby('visitorid')['transactionid'].nunique()\n",
    "print(np.percentile(orders_per_user, [95, 99]))"
   ]
  },
  {
   "cell_type": "markdown",
   "metadata": {},
   "source": [
    "Esto significa que el 5% de los usuarios realiza dos pedidos o más, y solo el 1% realiza 4 o más pedidos, lo que convierte a estos últimos en valores atípicos."
   ]
  },
  {
   "cell_type": "markdown",
   "metadata": {},
   "source": [
    "2.7 Traza un gráfico de dispersión de los precios de los pedidos. Haz conclusiones y conjeturas."
   ]
  },
  {
   "cell_type": "code",
   "execution_count": 20,
   "metadata": {},
   "outputs": [
    {
     "data": {
      "text/plain": [
       "<matplotlib.collections.PathCollection at 0x7fca18546730>"
      ]
     },
     "execution_count": 20,
     "metadata": {},
     "output_type": "execute_result"
    },
    {
     "data": {
      "image/png": "[encoded data removed]",
      "text/plain": [
       "<Figure size 640x480 with 1 Axes>"
      ]
     },
     "metadata": {},
     "output_type": "display_data"
    }
   ],
   "source": [
    "x_values = pd.Series(range(0, len(orders['revenue'])))\n",
    "plt.scatter(x_values, orders['revenue'])"
   ]
  },
  {
   "cell_type": "markdown",
   "metadata": {},
   "source": [
    "A simple vista solo se observan 2 valores que están muy por fuera del rango de precios de pedidos en general.Para poder concluir algo respecto a esto con mayor fundamentos, se debe recurir al análisis de eprcentiles, solo de esta manera se puede saber cuántos son realmente los valores atipicos."
   ]
  },
  {
   "cell_type": "markdown",
   "metadata": {},
   "source": [
    "2.8 Calcula los percentiles 95 y 99 de los precios de los pedidos. Define el punto en el cual un punto de datos se convierte en una anomalía."
   ]
  },
  {
   "cell_type": "code",
   "execution_count": 21,
   "metadata": {},
   "outputs": [
    {
     "name": "stdout",
     "output_type": "stream",
     "text": [
      "[435.54  900.904]\n"
     ]
    }
   ],
   "source": [
    "print(np.percentile(orders['revenue'], [95, 99]))"
   ]
  },
  {
   "cell_type": "markdown",
   "metadata": {},
   "source": [
    "Esto significa que solo un 1% de los ussuarios realizan pedidos de más de $900.904"
   ]
  },
  {
   "cell_type": "code",
   "execution_count": 23,
   "metadata": {
    "scrolled": true
   },
   "outputs": [
    {
     "name": "stdout",
     "output_type": "stream",
     "text": [
      "425     19920.4\n",
      "662      1220.2\n",
      "682      1220.2\n",
      "743      1050.0\n",
      "744      1335.6\n",
      "858      1450.2\n",
      "940       905.8\n",
      "949       930.0\n",
      "1099     1015.9\n",
      "1103     1025.8\n",
      "1136     1425.8\n",
      "1196     3120.1\n",
      "Name: revenue, dtype: float64\n",
      "<class 'pandas.core.frame.DataFrame'>\n",
      "Int64Index: 12 entries, 425 to 1196\n",
      "Data columns (total 1 columns):\n",
      " #   Column   Non-Null Count  Dtype  \n",
      "---  ------   --------------  -----  \n",
      " 0   revenue  12 non-null     float64\n",
      "dtypes: float64(1)\n",
      "memory usage: 192.0 bytes\n",
      "None\n"
     ]
    }
   ],
   "source": [
    "#se filtran aquellos usuarios que realizaron pedidos con un valor superior a 900.904\n",
    "usersWithExpensiveOrders = orders.loc[orders['revenue'] > 900.904, 'revenue']\n",
    "\n",
    "print(usersWithExpensiveOrders.head(20))\n",
    "print(pd.DataFrame(usersWithExpensiveOrders).info())"
   ]
  },
  {
   "cell_type": "markdown",
   "metadata": {},
   "source": [
    "\n",
    "<div class=\"alert alert-block alert-success\">\n",
    "\n",
    "<b>Comentario del revisor</b> <a class=\"tocSkip\"></a>\n",
    "\n",
    "¡Excelente trabajo! Has desarrollado una serie de análisis sólidos para comparar los grupos A y B, usando gráficos, percentiles y métricas como ingresos acumulados, tamaño promedio de pedidos, tasas de conversión y análisis de anomalías. A continuación, te comparto un resumen con los aspectos destacados y algunas recomendaciones para afinar aún más tu enfoque:\n",
    "\n",
    "### Puntos Positivos:\n",
    "\n",
    "- **Visualizaciones claras y bien etiquetadas:** Los gráficos son informativos, con títulos adecuados, leyendas claras y buen uso del color para diferenciar grupos.\n",
    "- **Análisis interpretativo:** Las conclusiones acompañan correctamente a cada gráfico y muestran una buena capacidad de interpretación de patrones.\n",
    "- **Identificación de anomalías:** Aplicaste correctamente el análisis de percentiles para detectar outliers en precios y número de pedidos, un paso clave en el análisis exploratorio.\n",
    "\n",
    "### Áreas para Seguir Mejorando:\n",
    "\n",
    "- **Repetición de código:** Algunas líneas como la separación de grupos A/B y los `plt.plot(...)` se repiten mucho. Considera encapsular en funciones para evitar redundancias.\n",
    "- **Nombres de variables:** Usa nombres más descriptivos en lugar de `x_values`, por ejemplo `pedido_indices` para que el código sea más autoexplicativo.\n",
    "- **Formateo de resultados numéricos:** Cuando imprimes valores como percentiles o ingresos, formatearlos con separadores de miles y redondeos mejora la legibilidad (e.g., `f\"{valor:,.2f}\"`).\n",
    "- **Conclusiones más cuantitativas:** Algunas observaciones son correctas pero algo vagas (\"valores muy por fuera del rango\"). Podrías reforzarlas con datos concretos: \"un valor es X veces mayor al percentil 99\".\n",
    "\n",
    "\n",
    "\n",
    "</div>"
   ]
  },
  {
   "cell_type": "markdown",
   "metadata": {},
   "source": [
    "2.9 Encuentra la significancia estadística de la diferencia en la conversión entre los grupos utilizando los datos en bruto. Haz conclusiones y conjeturas."
   ]
  },
  {
   "cell_type": "markdown",
   "metadata": {},
   "source": [
    "Se debe buscar la significancia estadística de las diferencias en la tasa de conversión y entre los grupos, utilizando los datos \"sin procesar\" (es decir, los datos antes de eliminar las anomalías).Se crean las variables ordersByUsersA y ordersByUsersB con las columnas ['visitorid', 'orders'], donde el número de pedidos para los usuarios con al menos un pedido será especificado. Para estos se utiliza nuevamente la prueba de significancia estadística de Wilcoxon-Mann-Whitney"
   ]
  },
  {
   "cell_type": "code",
   "execution_count": 24,
   "metadata": {},
   "outputs": [
    {
     "name": "stdout",
     "output_type": "stream",
     "text": [
      "valor p: 0.00000\n",
      "Conclusión: No hay evidencia de que los ingresos en A sean menores (no se rechaza H0).\n"
     ]
    }
   ],
   "source": [
    "# comparación de INGRESOS (revenue) por transacción entre grupos A y B\n",
    "revenueByUsersA = orders[orders['group'] == 'A']['revenue']\n",
    "revenueByUsersB = orders[orders['group'] == 'B']['revenue']\n",
    "\n",
    "alpha = .05\n",
    "\n",
    "results_revenue = st.mannwhitneyu(revenueByUsersA, revenueByUsersB, True, 'less')\n",
    "\n",
    "print(f\"valor p: {results.pvalue:.5f}\")\n",
    "\n",
    "if (results_revenue.pvalue < alpha):\n",
    "        print(\"Conclusión: Los ingresos en A son significativamente menores que en B (rechazo H0).\")\n",
    "else:\n",
    "    print(\"Conclusión: No hay evidencia de que los ingresos en A sean menores (no se rechaza H0).\")\n"
   ]
  },
  {
   "cell_type": "markdown",
   "metadata": {},
   "source": [
    "2.10 Encuentra la significancia estadística de la diferencia en el tamaño promedio de pedido entre los grupos utilizando los datos en bruto. Haz conclusiones y conjeturas."
   ]
  },
  {
   "cell_type": "code",
   "execution_count": 23,
   "metadata": {},
   "outputs": [
    {
     "name": "stdout",
     "output_type": "stream",
     "text": [
      "Resultados del análisis de ingresos por pedido:\n",
      "- Valor p (significancia estadística): 0.692\n",
      "- Diferencia relativa en ingresos (B vs A): 25.2%\n",
      "\n",
      "Interpretación:\n",
      "- Diferencia estadísticamente significativa: NO\n",
      "- Dirección del efecto: B > A\n"
     ]
    }
   ],
   "source": [
    "#Para calcular la importancia estadística de la diferencia en el tamaño promedio de \n",
    "# los pedidos entre los grupos, pasaremos los datos sobre los ingresos (revenue) al criterio \n",
    "# mannwhitneyu(). \n",
    "\n",
    "revenue_A = orders[orders['group']=='A']['revenue']\n",
    "revenue_B = orders[orders['group']=='B']['revenue']\n",
    "\n",
    "p_value = st.mannwhitneyu(revenue_A, revenue_B)[1]\n",
    "rel_diff = revenue_B.mean() / revenue_A.mean() - 1\n",
    "\n",
    "print(\"Resultados del análisis de ingresos por pedido:\")\n",
    "print(f\"- Valor p (significancia estadística): {p_value:.3f}\")\n",
    "print(f\"- Diferencia relativa en ingresos (B vs A): {rel_diff:.1%}\")\n",
    "\n",
    "# Interpretación automática\n",
    "print(\"\\nInterpretación:\")\n",
    "print(f\"- Diferencia estadísticamente significativa: {'SÍ' if p_value < 0.05 else 'NO'}\")\n",
    "print(f\"- Dirección del efecto: {'B > A' if rel_diff > 0 else 'B <= A'}\")"
   ]
  },
  {
   "cell_type": "markdown",
   "metadata": {},
   "source": [
    "Como ya se vio anteriormente, no existe evidencia estadística para concluir que las distribuciones de ingresos entre los grupos A y B son significativamente diferentes.Esto puede ser porque se está trabajando con el dataframe orders sin filtrar datos atípicos.\n",
    "Por otra parte, se indica que el grupo B tiene un 25,2% más de ingresos en promedio que el grupo A.Nuevamente, esto no concuerda con el valor p obtenido, por lo que se vuelve a mencionar que es porbable que se deba a los valores atípicos aún presentes"
   ]
  },
  {
   "cell_type": "markdown",
   "metadata": {},
   "source": [
    "2.11 Encuentra la significancia estadística de la diferencia en la conversión entre los grupos utilizando los datos filtrados. Haz conclusiones y conjeturas."
   ]
  },
  {
   "cell_type": "code",
   "execution_count": 38,
   "metadata": {},
   "outputs": [
    {
     "name": "stdout",
     "output_type": "stream",
     "text": [
      "\n",
      "=== Información completa ===\n",
      "<class 'pandas.core.frame.DataFrame'>\n",
      "Int64Index: 15 entries, 5 to 499\n",
      "Data columns (total 1 columns):\n",
      " #   Column     Non-Null Count  Dtype  \n",
      "---  ------     --------------  -----  \n",
      " 0   visitorid  15 non-null     float64\n",
      "dtypes: float64(1)\n",
      "memory usage: 240.0 bytes\n",
      "None\n"
     ]
    }
   ],
   "source": [
    "ordersByUsersA = orders[orders['group']=='A'].groupby('visitorid', as_index=False).agg({'transactionid' : pd.Series.nunique})\n",
    "ordersByUsersA.columns = ['visitorid', 'orders']\n",
    "\n",
    "ordersByUsersB = orders[orders['group']=='B'].groupby('visitorid', as_index=False).agg({'transactionid' : pd.Series.nunique})\n",
    "ordersByUsersB.columns = ['visitorid', 'orders']\n",
    "\n",
    "#se filtran aquellos usuarios que realizaron pedidos con un valor superior a 900.904 y un número de pedidos mayor a 4\n",
    "usersWithExpensiveOrders = orders.loc[orders['revenue'] > 900.904]['revenue'].unique()\n",
    "usersWithManyOrders = pd.concat([ordersByUsersA[ordersByUsersA['orders'] > 4]['visitorid'], ordersByUsersB[ordersByUsersB['orders'] > 4]['visitorid']], axis = 0)\n",
    "\n",
    "abnormalUsers = pd.concat([usersWithManyOrders,pd.Series(usersWithExpensiveOrders, name='visitorid')]).drop_duplicates().sort_values()\n",
    "\n",
    "abnormalUsers_df = abnormalUsers.to_frame(name='visitorid')\n",
    "print(\"\\n=== Información completa ===\")\n",
    "print(abnormalUsers_df.info())\n"
   ]
  },
  {
   "cell_type": "code",
   "execution_count": 39,
   "metadata": {},
   "outputs": [
    {
     "name": "stdout",
     "output_type": "stream",
     "text": [
      "=== Pedidos caros  ===\n",
      "       visitorid  revenue\n",
      "425   1920142716  19920.4\n",
      "662   4266935830   1220.2\n",
      "682   4266935830   1220.2\n",
      "743   4133034833   1050.0\n",
      "744    888512513   1335.6\n",
      "858   1316129916   1450.2\n",
      "940   4003628586    905.8\n",
      "949    887908475    930.0\n",
      "1099   148427295   1015.9\n",
      "1103  1164614297   1025.8\n",
      "1136  1307669133   1425.8\n",
      "1196  2108080724   3120.1\n",
      "\n",
      "=== Info del DataFrame filtrado ===\n",
      "<class 'pandas.core.frame.DataFrame'>\n",
      "Int64Index: 1158 entries, 0 to 1196\n",
      "Data columns (total 5 columns):\n",
      " #   Column         Non-Null Count  Dtype         \n",
      "---  ------         --------------  -----         \n",
      " 0   transactionid  1158 non-null   int64         \n",
      " 1   visitorid      1158 non-null   int64         \n",
      " 2   date           1158 non-null   datetime64[ns]\n",
      " 3   revenue        1158 non-null   float64       \n",
      " 4   group          1158 non-null   object        \n",
      "dtypes: datetime64[ns](1), float64(1), int64(2), object(1)\n",
      "memory usage: 54.3+ KB\n",
      "None\n"
     ]
    }
   ],
   "source": [
    "# se filtra el DataFrame original para EXCLUIR esos usuarios\n",
    "filtered_orders = orders[~orders['visitorid'].isin(abnormalUsers)]\n",
    "\n",
    "# Verificación\n",
    "print(\"=== Pedidos caros  ===\")\n",
    "print(filtered_orders[filtered_orders['revenue'] > 900.904][['visitorid', 'revenue']].head(20))\n",
    "\n",
    "print(\"\\n=== Info del DataFrame filtrado ===\")\n",
    "print(filtered_orders.info())"
   ]
  },
  {
   "cell_type": "code",
   "execution_count": 40,
   "metadata": {},
   "outputs": [
    {
     "name": "stdout",
     "output_type": "stream",
     "text": [
      "Resultados del test A/B para conversión (excluyendo datos atípicos):\n",
      "- Valor p: 0.01631\n",
      "- Diferencia relativa en conversión (B vs A): 15.5%\n",
      "\n",
      "Interpretación:\n",
      "- Significancia estadística: SÍ\n",
      "- Dirección del efecto: B > A\n"
     ]
    }
   ],
   "source": [
    "\n",
    "# Grupo A: usuarios normales que compraron (1) + usuarios que no compraron (0)\n",
    "conversionA = pd.concat([\n",
    "    pd.Series(1, index=ordersByUsersA[np.logical_not(ordersByUsersA['visitorid'].isin(abnormalUsers))].index, name='conversion'),\n",
    "    pd.Series(0, index=np.arange(visits[visits['group']=='A']['visits'].sum() - len(ordersByUsersA['orders'])), name='conversion')\n",
    "], axis=0)\n",
    "\n",
    "# Grupo B: usuarios normales que compraron (1) + usuarios que no compraron (0)\n",
    "conversionB = pd.concat([\n",
    "    pd.Series(1, index=ordersByUsersB[np.logical_not(ordersByUsersB['visitorid'].isin(abnormalUsers))].index, name='conversion'),\n",
    "    pd.Series(0, index=np.arange(visits[visits['group']=='B']['visits'].sum() - len(ordersByUsersB['orders'])), name='conversion')\n",
    "], axis=0)\n",
    "\n",
    "# se lleva a cabo la prueba estadística para conversión\n",
    "p_value_conversion = st.mannwhitneyu(conversionA, conversionB)[1]\n",
    "rel_diff_conversion = conversionB.mean() / conversionA.mean() - 1\n",
    "\n",
    "print(\"Resultados del test A/B para conversión (excluyendo datos atípicos):\")\n",
    "print(f\"- Valor p: {p_value_conversion:.5f}\")\n",
    "print(f\"- Diferencia relativa en conversión (B vs A): {rel_diff_conversion:.1%}\")\n",
    "\n",
    "print(\"\\nInterpretación:\")\n",
    "print(f\"- Significancia estadística: {'SÍ' if p_value_conversion < 0.05 else 'NO'}\")\n",
    "print(f\"- Dirección del efecto: {'B > A' if rel_diff_conversion > 0 else 'B <= A'}\")"
   ]
  },
  {
   "cell_type": "markdown",
   "metadata": {},
   "source": [
    "2.12 Encuentra la significancia estadística de la diferencia en el tamaño promedio de pedido entre los grupos utilizando los datos filtrados. Haz conclusiones y conjeturas."
   ]
  },
  {
   "cell_type": "code",
   "execution_count": 41,
   "metadata": {},
   "outputs": [
    {
     "name": "stdout",
     "output_type": "stream",
     "text": [
      "\n",
      "Resultados del test A/B para tamaño promedio de pedido (excluyendo datos atípicos):\n",
      "- Valor p: 0.84658\n",
      "- Diferencia relativa en tamaño de pedido (B vs A): 21.1%\n",
      "\n",
      "Interpretación:\n",
      "- Significancia estadística: NO\n",
      "- Dirección del efecto: B > A\n"
     ]
    }
   ],
   "source": [
    "# Filtramos solo los pedidos de usuarios no atípicos\n",
    "ordersFilteredA = orders[orders['visitorid'].isin(ordersByUsersA[np.logical_not(ordersByUsersA['visitorid'].isin(abnormalUsers))]['visitorid'])]\n",
    "ordersFilteredB = orders[orders['visitorid'].isin(ordersByUsersB[np.logical_not(ordersByUsersB['visitorid'].isin(abnormalUsers))]['visitorid'])]\n",
    "\n",
    "# se lleva a cabo la prueba estadística para tamaño promedio de pedido\n",
    "p_value_avg_order = st.mannwhitneyu(ordersFilteredA['revenue'], ordersFilteredB['revenue'])[1]\n",
    "rel_diff_avg_order = ordersFilteredB['revenue'].mean() / ordersFilteredA['revenue'].mean() - 1\n",
    "\n",
    "print(\"\\nResultados del test A/B para tamaño promedio de pedido (excluyendo datos atípicos):\")\n",
    "print(f\"- Valor p: {p_value_avg_order:.5f}\")\n",
    "print(f\"- Diferencia relativa en tamaño de pedido (B vs A): {rel_diff_avg_order:.1%}\")\n",
    "\n",
    "print(\"\\nInterpretación:\")\n",
    "print(f\"- Significancia estadística: {'SÍ' if p_value_avg_order < 0.05 else 'NO'}\")\n",
    "print(f\"- Dirección del efecto: {'B > A' if rel_diff_avg_order > 0 else 'B <= A'}\")"
   ]
  },
  {
   "cell_type": "markdown",
   "metadata": {},
   "source": [
    "Estos resultados indican que, pese a observar que el grupo B presenta pedidos de un tamaño hasta 21,1% mayor que el grupo A, el valor p está muy por sobre la significancia de 0.05; por lo que no ha evidencia estadística suficiente para concluir que existe una diferencia significativa en el tamaño promedio de pedido entre grupos."
   ]
  },
  {
   "cell_type": "markdown",
   "metadata": {},
   "source": [
    "2.13 Toma una decisión basada en los resultados de la prueba. Las decisiones posibles son: 1. Parar la prueba, considerar a uno de los grupos como líder. 2. Parar la prueba, concluir que no hay diferencia entre los grupos. 3. Continuar la prueba."
   ]
  },
  {
   "cell_type": "markdown",
   "metadata": {},
   "source": [
    "El grupo B en general muestra un mejor desempeño en ingresos .Esto ocurre antes de filtrar datos anómalos y después de hacerlo, por lo que se recomendaría considerar el grupo B como lider y detener la prueba en ese punto si se quieren priorizar solo los ingresos.\n",
    "Se recomienda además seguir haciéndole seguimiento al impacto de la implementación de las mejoras del grupo B de manera de verificar que la mejora en los valores de conversión se siguen manteniendo en el tiempo o siguen aumentando."
   ]
  },
  {
   "cell_type": "markdown",
   "metadata": {},
   "source": [
    "\n",
    "\n",
    "# Comentario General del Revisor\n",
    "\n",
    "<div class=\"alert alert-block alert-success\">\n",
    "\n",
    "<b>Comentario del revisor</b> <a class=\"tocSkip\"></a>\n",
    "\n",
    "¡Felicidades! Has completado una sección crítica del análisis A/B con una aplicación adecuada de pruebas estadísticas, interpretación de resultados y toma de decisiones fundamentada. Este tipo de análisis es clave en entornos de negocio reales. A continuación, te comparto lo más destacado y algunas sugerencias:\n",
    "\n",
    "### Puntos Positivos:\n",
    "\n",
    "- **Aplicación correcta de Mann-Whitney U Test:** Utilizaste apropiadamente la prueba no paramétrica para comparar conversiones e ingresos, tanto con datos brutos como filtrados.\n",
    "- **Análisis con y sin outliers:** Excelente enfoque al repetir el análisis con datos limpios. Esto muestra un entendimiento profundo del impacto de las anomalías en la significancia estadística.\n",
    "- **Interpretaciones claras y estructuradas:** Las conclusiones están bien escritas, con una lógica clara que conecta resultados numéricos con recomendaciones prácticas.\n",
    "- **Toma de decisiones realista:** La decisión final basada en los ingresos y la estabilidad post-filtrado está bien justificada. Se nota pensamiento crítico aplicado.\n",
    "\n",
    "### Áreas para Seguir Investigando:\n",
    "\n",
    "- **Claridad en definición de variables:** Algunas variables como `abnormalUsers` o los filtros de visitas podrían beneficiarse de comentarios más explícitos para facilitar su comprensión futura.\n",
    "- **Alternativas estadísticas adicionales:** Podrías explorar otros tests como el bootstrap para comparar medias o tasas, como forma adicional de validar resultados.\n",
    "- **Automatización y reutilización:** Considera encapsular en funciones algunos pasos repetitivos (filtrado de outliers, testeo de hipótesis) para mejorar legibilidad y modularidad.\n",
    "\n",
    "¡Gran trabajo! Esta sección demuestra un dominio sólido de estadística aplicada y capacidad analítica. Te animo a seguir profundizando en pruebas A/B, especialmente en contextos donde se requiera ajustar por múltiples comparaciones o realizar segmentaciones más específicas.\n",
    "\n",
    "🚀📈 ¡Sigue adelante, estás muy cerca del nivel profesional!\n",
    "\n",
    "</div>"
   ]
  },
  {
   "cell_type": "code",
   "execution_count": null,
   "metadata": {},
   "outputs": [],
   "source": []
  }
 ],
 "metadata": {
  "ExecuteTimeLog": [
   {
    "duration": 1387,
    "start_time": "2025-03-28T00:31:06.584Z"
   },
   {
    "duration": 0,
    "start_time": "2025-03-28T00:31:07.974Z"
   },
   {
    "duration": 1,
    "start_time": "2025-03-28T00:31:07.975Z"
   },
   {
    "duration": 0,
    "start_time": "2025-03-28T00:31:07.977Z"
   },
   {
    "duration": 64,
    "start_time": "2025-03-28T00:31:50.535Z"
   },
   {
    "duration": 69,
    "start_time": "2025-03-28T00:32:01.085Z"
   },
   {
    "duration": 66,
    "start_time": "2025-03-28T00:32:17.482Z"
   },
   {
    "duration": 17,
    "start_time": "2025-03-28T00:32:24.147Z"
   },
   {
    "duration": 13,
    "start_time": "2025-03-28T00:32:25.979Z"
   },
   {
    "duration": 23,
    "start_time": "2025-03-28T00:32:29.183Z"
   },
   {
    "duration": 8,
    "start_time": "2025-03-28T00:32:30.551Z"
   },
   {
    "duration": 6,
    "start_time": "2025-03-28T00:33:44.967Z"
   },
   {
    "duration": 4,
    "start_time": "2025-03-28T00:33:45.943Z"
   },
   {
    "duration": 5,
    "start_time": "2025-03-28T00:33:47.544Z"
   },
   {
    "duration": 6,
    "start_time": "2025-03-28T00:33:49.337Z"
   },
   {
    "duration": 6,
    "start_time": "2025-03-28T00:33:58.728Z"
   },
   {
    "duration": 3,
    "start_time": "2025-03-28T00:34:01.944Z"
   },
   {
    "duration": 5,
    "start_time": "2025-03-28T00:34:03.287Z"
   },
   {
    "duration": 4,
    "start_time": "2025-03-28T00:34:05.184Z"
   },
   {
    "duration": 1348,
    "start_time": "2025-03-28T00:34:33.523Z"
   },
   {
    "duration": 1339,
    "start_time": "2025-03-28T00:34:46.168Z"
   },
   {
    "duration": 15,
    "start_time": "2025-03-28T00:34:47.509Z"
   },
   {
    "duration": 0,
    "start_time": "2025-03-28T00:34:47.527Z"
   },
   {
    "duration": 0,
    "start_time": "2025-03-28T00:34:47.528Z"
   },
   {
    "duration": 0,
    "start_time": "2025-03-28T00:34:47.530Z"
   },
   {
    "duration": 0,
    "start_time": "2025-03-28T00:34:47.531Z"
   },
   {
    "duration": 0,
    "start_time": "2025-03-28T00:34:47.532Z"
   },
   {
    "duration": 0,
    "start_time": "2025-03-28T00:34:47.533Z"
   },
   {
    "duration": 0,
    "start_time": "2025-03-28T00:34:47.534Z"
   },
   {
    "duration": 0,
    "start_time": "2025-03-28T00:34:47.535Z"
   },
   {
    "duration": 0,
    "start_time": "2025-03-28T00:34:47.537Z"
   },
   {
    "duration": 0,
    "start_time": "2025-03-28T00:34:47.538Z"
   },
   {
    "duration": 0,
    "start_time": "2025-03-28T00:34:47.539Z"
   },
   {
    "duration": 0,
    "start_time": "2025-03-28T00:34:47.540Z"
   },
   {
    "duration": 0,
    "start_time": "2025-03-28T00:34:47.541Z"
   },
   {
    "duration": 0,
    "start_time": "2025-03-28T00:34:47.542Z"
   },
   {
    "duration": 0,
    "start_time": "2025-03-28T00:34:47.544Z"
   },
   {
    "duration": 15,
    "start_time": "2025-03-28T00:36:47.766Z"
   },
   {
    "duration": 9,
    "start_time": "2025-03-28T00:36:47.783Z"
   },
   {
    "duration": 7,
    "start_time": "2025-03-28T00:36:47.794Z"
   },
   {
    "duration": 6,
    "start_time": "2025-03-28T00:36:47.802Z"
   },
   {
    "duration": 5,
    "start_time": "2025-03-28T00:36:47.811Z"
   },
   {
    "duration": 4,
    "start_time": "2025-03-28T00:36:47.818Z"
   },
   {
    "duration": 4,
    "start_time": "2025-03-28T00:36:47.824Z"
   },
   {
    "duration": 4,
    "start_time": "2025-03-28T00:36:47.830Z"
   },
   {
    "duration": 3,
    "start_time": "2025-03-28T00:36:47.836Z"
   },
   {
    "duration": 4,
    "start_time": "2025-03-28T00:36:47.841Z"
   },
   {
    "duration": 3,
    "start_time": "2025-03-28T00:36:47.848Z"
   },
   {
    "duration": 1422,
    "start_time": "2025-03-28T00:36:47.853Z"
   },
   {
    "duration": 162,
    "start_time": "2025-03-28T07:33:19.205Z"
   },
   {
    "duration": 12,
    "start_time": "2025-03-28T07:38:56.002Z"
   },
   {
    "duration": 12,
    "start_time": "2025-03-28T07:41:20.675Z"
   },
   {
    "duration": 2493,
    "start_time": "2025-03-28T07:41:31.649Z"
   },
   {
    "duration": 10,
    "start_time": "2025-03-28T07:41:34.144Z"
   },
   {
    "duration": 6,
    "start_time": "2025-03-28T07:41:34.156Z"
   },
   {
    "duration": 6,
    "start_time": "2025-03-28T07:41:35.846Z"
   },
   {
    "duration": 5,
    "start_time": "2025-03-28T07:41:45.285Z"
   },
   {
    "duration": 5,
    "start_time": "2025-03-28T07:41:45.910Z"
   },
   {
    "duration": 5,
    "start_time": "2025-03-28T07:41:46.515Z"
   },
   {
    "duration": 6,
    "start_time": "2025-03-28T07:41:47.212Z"
   },
   {
    "duration": 3,
    "start_time": "2025-03-28T07:41:48.102Z"
   },
   {
    "duration": 6,
    "start_time": "2025-03-28T07:41:49.040Z"
   },
   {
    "duration": 4,
    "start_time": "2025-03-28T07:41:49.854Z"
   },
   {
    "duration": 1264,
    "start_time": "2025-03-28T07:41:52.616Z"
   },
   {
    "duration": 7,
    "start_time": "2025-03-28T07:41:59.191Z"
   },
   {
    "duration": 14,
    "start_time": "2025-03-28T07:42:30.197Z"
   },
   {
    "duration": 2486,
    "start_time": "2025-03-29T14:31:57.503Z"
   },
   {
    "duration": 10,
    "start_time": "2025-03-29T14:31:59.991Z"
   },
   {
    "duration": 6,
    "start_time": "2025-03-29T14:32:00.003Z"
   },
   {
    "duration": 6,
    "start_time": "2025-03-29T14:32:00.011Z"
   },
   {
    "duration": 13,
    "start_time": "2025-03-29T14:32:00.018Z"
   },
   {
    "duration": 5,
    "start_time": "2025-03-29T14:32:00.033Z"
   },
   {
    "duration": 5,
    "start_time": "2025-03-29T14:32:00.040Z"
   },
   {
    "duration": 6,
    "start_time": "2025-03-29T14:32:00.046Z"
   },
   {
    "duration": 3,
    "start_time": "2025-03-29T14:32:00.053Z"
   },
   {
    "duration": 4,
    "start_time": "2025-03-29T14:32:00.060Z"
   },
   {
    "duration": 3,
    "start_time": "2025-03-29T14:32:00.066Z"
   },
   {
    "duration": 1302,
    "start_time": "2025-03-29T14:32:00.071Z"
   },
   {
    "duration": 11,
    "start_time": "2025-03-29T14:32:01.375Z"
   },
   {
    "duration": 181,
    "start_time": "2025-03-29T14:32:01.388Z"
   },
   {
    "duration": 296,
    "start_time": "2025-03-29T14:32:01.570Z"
   },
   {
    "duration": 438,
    "start_time": "2025-03-29T14:32:01.868Z"
   },
   {
    "duration": 144,
    "start_time": "2025-03-29T14:32:02.309Z"
   },
   {
    "duration": 117,
    "start_time": "2025-03-29T14:32:02.455Z"
   },
   {
    "duration": 5,
    "start_time": "2025-03-29T14:32:02.574Z"
   },
   {
    "duration": 119,
    "start_time": "2025-03-29T14:32:02.581Z"
   },
   {
    "duration": 3,
    "start_time": "2025-03-29T14:32:02.702Z"
   },
   {
    "duration": 140,
    "start_time": "2025-03-29T14:32:02.707Z"
   },
   {
    "duration": 0,
    "start_time": "2025-03-29T14:32:02.849Z"
   },
   {
    "duration": 0,
    "start_time": "2025-03-29T14:32:02.850Z"
   },
   {
    "duration": 0,
    "start_time": "2025-03-29T14:32:02.852Z"
   },
   {
    "duration": 0,
    "start_time": "2025-03-29T14:32:02.853Z"
   },
   {
    "duration": 0,
    "start_time": "2025-03-29T14:32:02.855Z"
   },
   {
    "duration": 0,
    "start_time": "2025-03-29T14:32:02.856Z"
   },
   {
    "duration": 833,
    "start_time": "2025-03-29T14:39:41.992Z"
   },
   {
    "duration": 12,
    "start_time": "2025-03-29T14:39:42.827Z"
   },
   {
    "duration": 7,
    "start_time": "2025-03-29T14:39:42.841Z"
   },
   {
    "duration": 10,
    "start_time": "2025-03-29T14:39:42.849Z"
   },
   {
    "duration": 7,
    "start_time": "2025-03-29T14:39:42.860Z"
   },
   {
    "duration": 4,
    "start_time": "2025-03-29T14:39:42.869Z"
   },
   {
    "duration": 5,
    "start_time": "2025-03-29T14:39:42.875Z"
   },
   {
    "duration": 50,
    "start_time": "2025-03-29T14:39:42.882Z"
   },
   {
    "duration": 3,
    "start_time": "2025-03-29T14:39:42.935Z"
   },
   {
    "duration": 4,
    "start_time": "2025-03-29T14:39:42.943Z"
   },
   {
    "duration": 5,
    "start_time": "2025-03-29T14:39:42.950Z"
   },
   {
    "duration": 1323,
    "start_time": "2025-03-29T14:39:42.956Z"
   },
   {
    "duration": 11,
    "start_time": "2025-03-29T14:39:44.281Z"
   },
   {
    "duration": 183,
    "start_time": "2025-03-29T14:39:44.294Z"
   },
   {
    "duration": 304,
    "start_time": "2025-03-29T14:39:44.478Z"
   },
   {
    "duration": 525,
    "start_time": "2025-03-29T14:39:44.784Z"
   },
   {
    "duration": 164,
    "start_time": "2025-03-29T14:39:45.310Z"
   },
   {
    "duration": 123,
    "start_time": "2025-03-29T14:39:45.476Z"
   },
   {
    "duration": 7,
    "start_time": "2025-03-29T14:39:45.601Z"
   },
   {
    "duration": 123,
    "start_time": "2025-03-29T14:39:45.609Z"
   },
   {
    "duration": 3,
    "start_time": "2025-03-29T14:39:45.735Z"
   },
   {
    "duration": 142,
    "start_time": "2025-03-29T14:39:45.740Z"
   },
   {
    "duration": 0,
    "start_time": "2025-03-29T14:39:45.884Z"
   },
   {
    "duration": 0,
    "start_time": "2025-03-29T14:39:45.885Z"
   },
   {
    "duration": 0,
    "start_time": "2025-03-29T14:39:45.886Z"
   },
   {
    "duration": 0,
    "start_time": "2025-03-29T14:39:45.887Z"
   },
   {
    "duration": 0,
    "start_time": "2025-03-29T14:39:45.888Z"
   },
   {
    "duration": 0,
    "start_time": "2025-03-29T14:39:45.889Z"
   },
   {
    "duration": 9,
    "start_time": "2025-03-29T14:59:27.960Z"
   },
   {
    "duration": 105,
    "start_time": "2025-03-29T14:59:29.721Z"
   },
   {
    "duration": 14,
    "start_time": "2025-03-29T14:59:31.367Z"
   },
   {
    "duration": 20,
    "start_time": "2025-03-29T14:59:31.467Z"
   },
   {
    "duration": 18,
    "start_time": "2025-03-29T14:59:31.807Z"
   },
   {
    "duration": 161,
    "start_time": "2025-03-29T22:22:14.566Z"
   },
   {
    "duration": 2696,
    "start_time": "2025-03-29T22:22:45.744Z"
   },
   {
    "duration": 11,
    "start_time": "2025-03-29T22:22:48.442Z"
   },
   {
    "duration": 9,
    "start_time": "2025-03-29T22:22:48.454Z"
   },
   {
    "duration": 6,
    "start_time": "2025-03-29T22:22:48.465Z"
   },
   {
    "duration": 6,
    "start_time": "2025-03-29T22:22:48.473Z"
   },
   {
    "duration": 4,
    "start_time": "2025-03-29T22:22:48.521Z"
   },
   {
    "duration": 4,
    "start_time": "2025-03-29T22:22:48.829Z"
   },
   {
    "duration": 6,
    "start_time": "2025-03-29T22:22:49.504Z"
   },
   {
    "duration": 3,
    "start_time": "2025-03-29T22:22:49.952Z"
   },
   {
    "duration": 5,
    "start_time": "2025-03-29T22:22:50.357Z"
   },
   {
    "duration": 5,
    "start_time": "2025-03-29T22:22:50.681Z"
   },
   {
    "duration": 1307,
    "start_time": "2025-03-29T22:22:51.173Z"
   },
   {
    "duration": 11,
    "start_time": "2025-03-29T22:22:52.662Z"
   },
   {
    "duration": 175,
    "start_time": "2025-03-29T22:22:54.352Z"
   },
   {
    "duration": 316,
    "start_time": "2025-03-29T22:22:58.193Z"
   },
   {
    "duration": 461,
    "start_time": "2025-03-29T22:23:02.419Z"
   },
   {
    "duration": 151,
    "start_time": "2025-03-29T22:23:09.722Z"
   },
   {
    "duration": 108,
    "start_time": "2025-03-29T22:23:15.209Z"
   },
   {
    "duration": 4,
    "start_time": "2025-03-29T22:23:31.388Z"
   },
   {
    "duration": 114,
    "start_time": "2025-03-29T22:23:40.071Z"
   },
   {
    "duration": 4,
    "start_time": "2025-03-29T22:23:48.071Z"
   },
   {
    "duration": 227,
    "start_time": "2025-03-29T22:23:53.590Z"
   },
   {
    "duration": 10,
    "start_time": "2025-03-29T22:51:23.386Z"
   },
   {
    "duration": 7,
    "start_time": "2025-03-29T22:51:32.959Z"
   },
   {
    "duration": 139,
    "start_time": "2025-03-29T22:51:44.753Z"
   },
   {
    "duration": 7,
    "start_time": "2025-03-29T23:06:48.080Z"
   },
   {
    "duration": 6,
    "start_time": "2025-03-29T23:07:05.889Z"
   },
   {
    "duration": 4,
    "start_time": "2025-03-29T23:07:41.690Z"
   },
   {
    "duration": 5,
    "start_time": "2025-03-29T23:08:02.893Z"
   },
   {
    "duration": 5,
    "start_time": "2025-03-29T23:08:38.486Z"
   },
   {
    "duration": 7,
    "start_time": "2025-03-29T23:09:12.688Z"
   },
   {
    "duration": 5,
    "start_time": "2025-03-29T23:09:30.451Z"
   },
   {
    "duration": 6,
    "start_time": "2025-03-29T23:10:10.127Z"
   },
   {
    "duration": 6,
    "start_time": "2025-03-29T23:11:00.680Z"
   },
   {
    "duration": 6,
    "start_time": "2025-03-29T23:11:18.100Z"
   },
   {
    "duration": 156,
    "start_time": "2025-03-29T23:13:58.377Z"
   },
   {
    "duration": 132,
    "start_time": "2025-03-29T23:14:24.558Z"
   },
   {
    "duration": 120,
    "start_time": "2025-03-29T23:25:22.490Z"
   },
   {
    "duration": 13,
    "start_time": "2025-03-29T23:25:36.303Z"
   },
   {
    "duration": 21,
    "start_time": "2025-03-29T23:25:42.717Z"
   },
   {
    "duration": 9,
    "start_time": "2025-03-29T23:25:46.795Z"
   }
  ],
  "kernelspec": {
   "display_name": "Python 3 (ipykernel)",
   "language": "python",
   "name": "python3"
  },
  "language_info": {
   "codemirror_mode": {
    "name": "ipython",
    "version": 3
   },
   "file_extension": ".py",
   "mimetype": "text/x-python",
   "name": "python",
   "nbconvert_exporter": "python",
   "pygments_lexer": "ipython3",
   "version": "3.9.19"
  },
  "toc": {
   "base_numbering": 1,
   "nav_menu": {},
   "number_sections": true,
   "sideBar": true,
   "skip_h1_title": true,
   "title_cell": "Table of Contents",
   "title_sidebar": "Contents",
   "toc_cell": false,
   "toc_position": {},
   "toc_section_display": true,
   "toc_window_display": false
  }
 },
 "nbformat": 4,
 "nbformat_minor": 2
}
